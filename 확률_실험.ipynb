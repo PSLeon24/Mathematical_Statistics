{
  "nbformat": 4,
  "nbformat_minor": 0,
  "metadata": {
    "colab": {
      "provenance": [],
      "authorship_tag": "ABX9TyOtywiWSkpS+PxkYf8CiV6w",
      "include_colab_link": true
    },
    "kernelspec": {
      "name": "python3",
      "display_name": "Python 3"
    },
    "language_info": {
      "name": "python"
    }
  },
  "cells": [
    {
      "cell_type": "markdown",
      "metadata": {
        "id": "view-in-github",
        "colab_type": "text"
      },
      "source": [
        "<a href=\"https://colab.research.google.com/github/PSLeon24/Mathematical_Statistics/blob/main/%ED%99%95%EB%A5%A0_%EC%8B%A4%ED%97%98.ipynb\" target=\"_parent\"><img src=\"https://colab.research.google.com/assets/colab-badge.svg\" alt=\"Open In Colab\"/></a>"
      ]
    },
    {
      "cell_type": "code",
      "execution_count": 22,
      "metadata": {
        "colab": {
          "base_uri": "https://localhost:8080/",
          "height": 687
        },
        "id": "6KeW3mqh_Zxn",
        "outputId": "72e7412e-cee2-4a35-84ed-fc50aebb7b6f"
      },
      "outputs": [
        {
          "output_type": "stream",
          "name": "stdout",
          "text": [
            "주사위를 총 100,000번 던진 경우\n",
            "1의 빈도는 16719회\n",
            "1가 발생할 확률은 0.17%\n",
            "2의 빈도는 16780회\n",
            "2가 발생할 확률은 0.17%\n",
            "3의 빈도는 16557회\n",
            "3가 발생할 확률은 0.17%\n",
            "4의 빈도는 16646회\n",
            "4가 발생할 확률은 0.17%\n",
            "5의 빈도는 16553회\n",
            "5가 발생할 확률은 0.17%\n",
            "6의 빈도는 16745회\n",
            "6가 발생할 확률은 0.17%\n"
          ]
        },
        {
          "output_type": "execute_result",
          "data": {
            "text/plain": [
              "<Axes: >"
            ]
          },
          "metadata": {},
          "execution_count": 22
        },
        {
          "output_type": "display_data",
          "data": {
            "text/plain": [
              "<Figure size 640x480 with 1 Axes>"
            ],
            "image/png": "[encoded data removed]"
          },
          "metadata": {}
        }
      ],
      "source": [
        "import numpy as np\n",
        "import seaborn as sns\n",
        "from matplotlib import pyplot as plt\n",
        "\n",
        "bins = 100000\n",
        "fname = ['1', '2', '3', '4', '5', '6']\n",
        "freq = [0] * 6\n",
        "prob = [0] * 6\n",
        "\n",
        "for i in range(bins):\n",
        "  x= np.random.randint(1, 7)\n",
        "  if x == 1: freq[0] += 1\n",
        "  elif x == 2: freq[1] += 1\n",
        "  elif x == 3: freq[2] += 1\n",
        "  elif x == 4: freq[3] += 1\n",
        "  elif x == 5: freq[4] += 1\n",
        "  else:\n",
        "    freq[5] += 1\n",
        "\n",
        "print('주사위를 총 100,000번 던진 경우')\n",
        "for i in range(1, 7):\n",
        "  print(f'{i}의 빈도는 {freq[i-1]}회')\n",
        "  prob[i-1] = freq[i-1] / sum(freq)\n",
        "  print(f'{i}가 발생할 확률은 {prob[i-1]:.2f}%')\n",
        "\n",
        "sns.barplot(x = fname, y = prob)"
      ]
    },
    {
      "cell_type": "code",
      "source": [],
      "metadata": {
        "id": "NIPoENam_eAu"
      },
      "execution_count": null,
      "outputs": []
    }
  ]
}