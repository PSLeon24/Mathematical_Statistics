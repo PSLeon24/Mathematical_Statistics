{
 "cells": [
  {
   "cell_type": "code",
   "execution_count": 4,
   "id": "3b694d52",
   "metadata": {},
   "outputs": [],
   "source": [
    "from scipy.stats import binom\n",
    "def binom_exp(n, p):\n",
    "    '''\n",
    "    이항 분포에 대해, 주어진 모수를 가지고 모든 가능한 경우의 수의 확률을 구하고, \n",
    "    이를 토대로 평균과 분산이라는 기댓값을 구해보자\n",
    "    '''\n",
    "    xs = range(n + 1)  # Possible values for the binomial distribution (0, 1, ..., n)\n",
    "    probs = [binom.pmf(x, n, p) for x in xs]  # Probabilities for each value\n",
    "    \n",
    "    mean = sum(x * prob for x, prob in zip(xs, probs))  # Mean: E(X) = Σ x * P(X=x)\n",
    "    var = sum((x - mean) ** 2 * prob for x, prob in zip(xs, probs))  # Variance: E((X - μ)^2) = Σ (x - μ)^2 * P(X=x)\n",
    "\n",
    "    print(f\"Binom({n}, {p})의 평균: {mean:.2f}\")\n",
    "    print(f\"Binom({n}, {p})의 분산: {var:.2f}\")"
   ]
  },
  {
   "cell_type": "code",
   "execution_count": 5,
   "id": "b317ed41",
   "metadata": {},
   "outputs": [
    {
     "name": "stdout",
     "output_type": "stream",
     "text": [
      "Binom(10, 0.2)의 평균: 2.00\n",
      "Binom(10, 0.2)의 분산: 1.60\n",
      "Binom(3, 0.9)의 평균: 2.70\n",
      "Binom(3, 0.9)의 분산: 0.27\n",
      "Binom(200, 0.05)의 평균: 10.00\n",
      "Binom(200, 0.05)의 분산: 9.50\n",
      "Binom(200, 0.5)의 평균: 100.00\n",
      "Binom(200, 0.5)의 분산: 50.00\n"
     ]
    }
   ],
   "source": [
    "binom_exp(10, .2)\n",
    "\n",
    "binom_exp(3, .9)\n",
    "\n",
    "binom_exp(200, .05)\n",
    "\n",
    "binom_exp(200, .5)"
   ]
  },
  {
   "cell_type": "code",
   "execution_count": null,
   "id": "f3ddc7fe",
   "metadata": {},
   "outputs": [],
   "source": []
  }
 ],
 "metadata": {
  "kernelspec": {
   "display_name": "MP_vision",
   "language": "python",
   "name": "mp_vision"
  },
  "language_info": {
   "codemirror_mode": {
    "name": "ipython",
    "version": 3
   },
   "file_extension": ".py",
   "mimetype": "text/x-python",
   "name": "python",
   "nbconvert_exporter": "python",
   "pygments_lexer": "ipython3",
   "version": "3.10.6"
  }
 },
 "nbformat": 4,
 "nbformat_minor": 5
}
