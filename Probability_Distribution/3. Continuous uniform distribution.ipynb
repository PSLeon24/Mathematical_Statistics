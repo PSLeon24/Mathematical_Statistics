{
 "cells": [
  {
   "cell_type": "code",
   "execution_count": 49,
   "id": "5d23bc21",
   "metadata": {},
   "outputs": [],
   "source": [
    "def pdf_unif(x, a=0, b=1):\n",
    "    '''\n",
    "    주어진 a, b, x에 관한 균등 분포의 확률 값을 출력한다.\n",
    "    '''\n",
    "    if x < a or x > b:\n",
    "        prob = 0\n",
    "    else:\n",
    "        if x == 0:\n",
    "            prob = 1 / (b - a)\n",
    "        else:\n",
    "            prob = x / (b - a)\n",
    "    print(\"P(X=%s; a=%s, b=%s) = %.2f\"%(x, a, b, prob))"
   ]
  },
  {
   "cell_type": "code",
   "execution_count": 50,
   "id": "761a7a98",
   "metadata": {},
   "outputs": [
    {
     "name": "stdout",
     "output_type": "stream",
     "text": [
      "P(X=0.5; a=0, b=1) = 0.50\n",
      "P(X=0; a=-1, b=2) = 0.33\n",
      "P(X=2.5; a=0, b=3.5) = 0.71\n"
     ]
    }
   ],
   "source": [
    "pdf_unif(x=0.5)\n",
    "\n",
    "pdf_unif(x=0, a=-1, b=2)\n",
    "\n",
    "pdf_unif(x=2.5, a=0, b=3.5)"
   ]
  }
 ],
 "metadata": {
  "kernelspec": {
   "display_name": "MP_vision",
   "language": "python",
   "name": "mp_vision"
  },
  "language_info": {
   "codemirror_mode": {
    "name": "ipython",
    "version": 3
   },
   "file_extension": ".py",
   "mimetype": "text/x-python",
   "name": "python",
   "nbconvert_exporter": "python",
   "pygments_lexer": "ipython3",
   "version": "3.10.6"
  }
 },
 "nbformat": 4,
 "nbformat_minor": 5
}
