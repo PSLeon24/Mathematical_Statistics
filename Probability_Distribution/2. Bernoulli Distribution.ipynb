{
 "cells": [
  {
   "cell_type": "code",
   "execution_count": 15,
   "id": "bd300b8e",
   "metadata": {},
   "outputs": [],
   "source": [
    "def pmf_bern(p, x):\n",
    "    '''\n",
    "    주어진 p와 x에 관한 베르누이 분포의 확률 값을 반환한다.\n",
    "    x는 0과 1만이 가능하다.\n",
    "    '''\n",
    "    coins = [0, 1]\n",
    "    if x in coins:\n",
    "        prob = (p ** x) * (1 - p) ** (1 - x)\n",
    "    else:\n",
    "        prob = 0\n",
    "    print(f\"P(X={x}; p={p}) = {prob:.2f}\")"
   ]
  },
  {
   "cell_type": "code",
   "execution_count": 16,
   "id": "dbc47efa",
   "metadata": {},
   "outputs": [
    {
     "name": "stdout",
     "output_type": "stream",
     "text": [
      "P(X=1; p=0.7) = 0.70\n",
      "P(X=1; p=0.2) = 0.20\n",
      "P(X=0; p=0.2) = 0.80\n"
     ]
    }
   ],
   "source": [
    "pmf_bern(p=0.7, x=1)\n",
    "\n",
    "pmf_bern(p=0.2, x=1)\n",
    "\n",
    "pmf_bern(p=0.2, x=0)"
   ]
  },
  {
   "cell_type": "code",
   "execution_count": null,
   "id": "34d26733",
   "metadata": {},
   "outputs": [],
   "source": []
  }
 ],
 "metadata": {
  "kernelspec": {
   "display_name": "MP_vision",
   "language": "python",
   "name": "mp_vision"
  },
  "language_info": {
   "codemirror_mode": {
    "name": "ipython",
    "version": 3
   },
   "file_extension": ".py",
   "mimetype": "text/x-python",
   "name": "python",
   "nbconvert_exporter": "python",
   "pygments_lexer": "ipython3",
   "version": "3.10.6"
  }
 },
 "nbformat": 4,
 "nbformat_minor": 5
}
