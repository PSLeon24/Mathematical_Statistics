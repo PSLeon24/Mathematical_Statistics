{
 "cells": [
  {
   "cell_type": "code",
   "execution_count": 1,
   "id": "5c407a80",
   "metadata": {},
   "outputs": [],
   "source": [
    "from scipy.stats import binom # scipy 패키지를 사용합니다. \n",
    "def pdf_binom(x, n, p):\n",
    "    '''\n",
    "    주어진 x, n, p 관한 이항 분포의 확률 값을 출력한다.\n",
    "    '''\n",
    "    prob = binom.pmf(k = x, n = n, p = p)\n",
    "    # k는 전체시행가운데 성공의 횟수(구하는 확률값), n은 전체 시행횟수, p는 독립시행의 성공확률\n",
    "    print(f\"P(X={x}; n={n}, p={p}) = {prob:.2f}\")"
   ]
  },
  {
   "cell_type": "code",
   "execution_count": 2,
   "id": "82590ea4",
   "metadata": {},
   "outputs": [
    {
     "name": "stdout",
     "output_type": "stream",
     "text": [
      "P(X=3; n=10, p=0.3) = 0.27\n",
      "P(X=7; n=10, p=0.7) = 0.27\n",
      "P(X=50; n=100, p=0.1) = 0.00\n"
     ]
    }
   ],
   "source": [
    "pdf_binom(x=3, n=10, p=0.3)\n",
    "\n",
    "pdf_binom(x=7, n=10, p=0.7)\n",
    "\n",
    "pdf_binom(x=50, n=100, p=0.1)"
   ]
  }
 ],
 "metadata": {
  "kernelspec": {
   "display_name": "MP_vision",
   "language": "python",
   "name": "mp_vision"
  },
  "language_info": {
   "codemirror_mode": {
    "name": "ipython",
    "version": 3
   },
   "file_extension": ".py",
   "mimetype": "text/x-python",
   "name": "python",
   "nbconvert_exporter": "python",
   "pygments_lexer": "ipython3",
   "version": "3.10.6"
  }
 },
 "nbformat": 4,
 "nbformat_minor": 5
}
