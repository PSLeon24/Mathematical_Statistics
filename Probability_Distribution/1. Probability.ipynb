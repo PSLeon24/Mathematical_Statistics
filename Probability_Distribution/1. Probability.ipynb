{
 "cells": [
  {
   "cell_type": "code",
   "execution_count": 1,
   "id": "31e6c314",
   "metadata": {},
   "outputs": [],
   "source": [
    "def pmf_coin(outcome):\n",
    "    '''\n",
    "    본 함수는 동전을 던졌을 때 나오는 결과(Head 혹은 Tail)를 입력값으로 받는다.\n",
    "    입력값 outcome이 Head와 Tail 둘 중 하나일 때는 0.5, 그 외에는 0이 확률이 된다.\n",
    "    확률 변수의 형식으로, 주어진 outcome에 대한 확률을 출력한다.\n",
    "    '''\n",
    "    \n",
    "    coins = ['Head', 'Tail']\n",
    "    p = 0\n",
    "    if outcome in coins:\n",
    "        p = 0.5\n",
    "        print(f\"P(X = x) = {p:.2f}\")\n",
    "    else:\n",
    "        print(f\"P(X = x) = {p:.2f}\")"
   ]
  },
  {
   "cell_type": "code",
   "execution_count": 2,
   "id": "d4a82452",
   "metadata": {},
   "outputs": [
    {
     "name": "stdout",
     "output_type": "stream",
     "text": [
      "P(X = x) = 0.50\n"
     ]
    }
   ],
   "source": [
    "pmf_coin('Head')"
   ]
  },
  {
   "cell_type": "code",
   "execution_count": 3,
   "id": "90ad9dba",
   "metadata": {},
   "outputs": [
    {
     "name": "stdout",
     "output_type": "stream",
     "text": [
      "P(X = x) = 0.50\n"
     ]
    }
   ],
   "source": [
    "pmf_coin('Tail')"
   ]
  },
  {
   "cell_type": "code",
   "execution_count": 4,
   "id": "d7300adf",
   "metadata": {},
   "outputs": [
    {
     "name": "stdout",
     "output_type": "stream",
     "text": [
      "P(X = x) = 0.00\n"
     ]
    }
   ],
   "source": [
    "pmf_coin('Every')"
   ]
  }
 ],
 "metadata": {
  "kernelspec": {
   "display_name": "MP_vision",
   "language": "python",
   "name": "mp_vision"
  },
  "language_info": {
   "codemirror_mode": {
    "name": "ipython",
    "version": 3
   },
   "file_extension": ".py",
   "mimetype": "text/x-python",
   "name": "python",
   "nbconvert_exporter": "python",
   "pygments_lexer": "ipython3",
   "version": "3.10.6"
  }
 },
 "nbformat": 4,
 "nbformat_minor": 5
}
