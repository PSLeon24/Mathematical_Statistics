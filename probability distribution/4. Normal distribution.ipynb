{
 "cells": [
  {
   "cell_type": "code",
   "execution_count": 18,
   "id": "9e0605be",
   "metadata": {},
   "outputs": [],
   "source": [
    "from scipy.stats import norm # scipy 패키지를 사용합니다. \n",
    "\n",
    "def pdf_norm(x, mu=0, sigma=1):\n",
    "    '''\n",
    "    주어진 x, mu, sigma에 관한 정규 분포의 확률 값을 출력한다.\n",
    "    '''\n",
    "    prob = norm.pdf(x, loc = mu, scale = sigma)\n",
    "    # loc은 정규 분포의 평균(mu)을, scale은 표준편차(sigma) 나타냄\n",
    "    print(f\"P(X={x}; mu={mu}, sigma={sigma}) = {prob:.2f}\")\n"
   ]
  },
  {
   "cell_type": "code",
   "execution_count": 19,
   "id": "5dd42917",
   "metadata": {},
   "outputs": [
    {
     "name": "stdout",
     "output_type": "stream",
     "text": [
      "P(X=0; mu=0, sigma=1) = 0.40\n",
      "P(X=1.96; mu=0, sigma=1) = 0.06\n",
      "P(X=-1; mu=2, sigma=10) = 0.04\n"
     ]
    }
   ],
   "source": [
    "pdf_norm(0)\n",
    "\n",
    "pdf_norm(1.96, 0, 1)\n",
    "\n",
    "pdf_norm(-1, 2, 10)"
   ]
  }
 ],
 "metadata": {
  "kernelspec": {
   "display_name": "MP_vision",
   "language": "python",
   "name": "mp_vision"
  },
  "language_info": {
   "codemirror_mode": {
    "name": "ipython",
    "version": 3
   },
   "file_extension": ".py",
   "mimetype": "text/x-python",
   "name": "python",
   "nbconvert_exporter": "python",
   "pygments_lexer": "ipython3",
   "version": "3.10.6"
  }
 },
 "nbformat": 4,
 "nbformat_minor": 5
}
