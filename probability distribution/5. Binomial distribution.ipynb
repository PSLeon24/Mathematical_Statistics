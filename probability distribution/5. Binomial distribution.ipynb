{
 "cells": [
  {
   "cell_type": "code",
   "execution_count": null,
   "id": "684cfad4",
   "metadata": {},
   "outputs": [],
   "source": [
    "from scipy.stats import binom # scipy 패키지를 사용합니다. \n",
    "def pdf_binom(x, n, p):\n",
    "    '''\n",
    "    주어진 x, n, p 관한 이항 분포의 확률 값을 출력한다.\n",
    "    '''\n",
    "    prob = binom.pmf\n",
    "    print(f\"P(X={x}; n={n}, p={p}) = {prob:.2f}\")\n"
   ]
  }
 ],
 "metadata": {
  "kernelspec": {
   "display_name": "MP_vision",
   "language": "python",
   "name": "mp_vision"
  },
  "language_info": {
   "codemirror_mode": {
    "name": "ipython",
    "version": 3
   },
   "file_extension": ".py",
   "mimetype": "text/x-python",
   "name": "python",
   "nbconvert_exporter": "python",
   "pygments_lexer": "ipython3",
   "version": "3.10.6"
  }
 },
 "nbformat": 4,
 "nbformat_minor": 5
}
